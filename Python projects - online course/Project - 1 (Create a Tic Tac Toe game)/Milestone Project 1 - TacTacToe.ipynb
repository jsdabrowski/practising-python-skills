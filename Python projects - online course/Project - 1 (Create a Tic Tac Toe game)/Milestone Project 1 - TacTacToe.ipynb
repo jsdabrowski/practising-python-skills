{
 "cells": [
  {
   "cell_type": "markdown",
   "metadata": {},
   "source": [
    "# Milestone Project 1"
   ]
  },
  {
   "cell_type": "markdown",
   "metadata": {},
   "source": [
    "### Goal: Create a Tic Tac Toe game.\n",
    "\n",
    "Here are the requirements:\n",
    "\n",
    "* 2 players should be able to play the game (both sitting at the same computer)\n",
    "* The board should be printed out every time a player makes a move\n",
    "* You should be able to accept input of the player position and then place a symbol on the board"
   ]
  },
  {
   "cell_type": "code",
   "execution_count": 1,
   "metadata": {},
   "outputs": [],
   "source": [
    "def display_board(x):\n",
    "    \n",
    "    board = [\n",
    "    \n",
    "    \"    |   |   \",\n",
    "    f\" {x[0]}  | {x[1]} | {x[2]} \",\n",
    "    \" ___|___|___\",\n",
    "    \"    |   |   \",\n",
    "    f\" {x[3]}  | {x[4]} | {x[5]} \",\n",
    "    \" ___|___|___\", \n",
    "    \"    |   |   \",\n",
    "    f\" {x[6]}  | {x[7]} | {x[8]} \",\n",
    "    \"    |   |   \",\n",
    "]\n",
    "    for element in board:\n",
    "        print(element)"
   ]
  },
  {
   "cell_type": "code",
   "execution_count": 2,
   "metadata": {},
   "outputs": [],
   "source": [
    "def set_board(field, value):\n",
    "    board_status[field] = value \n",
    "    return board_status"
   ]
  },
  {
   "cell_type": "code",
   "execution_count": 3,
   "metadata": {},
   "outputs": [],
   "source": [
    "def read_choice(selected_choices, board_status):\n",
    "    \n",
    "    while(True):\n",
    "        \n",
    "        choice = input(\"Chose your move [0-8]:\\n\")\n",
    "        \n",
    "        if choice.isdigit() and 0 <= int(choice) <= 8:\n",
    "            \n",
    "            if int(choice) in selected_choices:\n",
    "                print(\"This choice has been already made.\")\n",
    "    \n",
    "            else:\n",
    "                return choice\n",
    "            \n",
    "        else: \n",
    "            print(\"You inserred incorrected value.\")\n",
    "            \n",
    "            pass"
   ]
  },
  {
   "cell_type": "code",
   "execution_count": 4,
   "metadata": {},
   "outputs": [],
   "source": [
    "def ask_continue_game():\n",
    "    \n",
    "    while(True):\n",
    "        \n",
    "        choice = input(\"Do you want to continue the game ? Y or N:\\n\")\n",
    "        \n",
    "        if choice in ('Y', 'N'):\n",
    "            return True if choice == 'Y' else False\n",
    "            \n",
    "        else: \n",
    "            print(\"You inserred incorrected value.\")\n",
    "            pass"
   ]
  },
  {
   "cell_type": "code",
   "execution_count": 5,
   "metadata": {},
   "outputs": [],
   "source": [
    "def chose_first_player_symbol():\n",
    "    \n",
    "    while(True):\n",
    "        symbol = input('Select the symbol of the first user: O or X\\n')\n",
    "\n",
    "        if symbol in ('O','X'):\n",
    "            return symbol\n",
    "\n",
    "        else:\n",
    "            print('Selected symbol is incorrect.')\n",
    "            pass"
   ]
  },
  {
   "cell_type": "code",
   "execution_count": 6,
   "metadata": {},
   "outputs": [],
   "source": [
    "def check_whose_move(whose_move):\n",
    "    \n",
    "    if whose_move['X']:\n",
    "        return 'X'\n",
    "    else:\n",
    "        return 'O'"
   ]
  },
  {
   "cell_type": "code",
   "execution_count": 7,
   "metadata": {},
   "outputs": [],
   "source": [
    "def switch_user(whose_move):\n",
    "    \n",
    "    if whose_move['X']:    \n",
    "        whose_move['X'] = False\n",
    "        whose_move['O'] = True\n",
    "    \n",
    "    else:\n",
    "        whose_move['X'] = True\n",
    "        whose_move['O'] = False\n",
    "   \n",
    "    return whose_move      "
   ]
  },
  {
   "cell_type": "code",
   "execution_count": 8,
   "metadata": {},
   "outputs": [],
   "source": [
    "def check_if_someone_won(board_status):\n",
    "    \n",
    "    settings_for_winning = [\n",
    "\n",
    "        [0,1,2],[3,4,5],[6,7,8], \n",
    "        [0,3,6],[1,4,7],[2,5,8],\n",
    "        [0,4,8], [2,4,6]\n",
    "    ]\n",
    "\n",
    "    x_user_choices = []\n",
    "    o_user_choices = []\n",
    "\n",
    "    for i, j in enumerate(board_status):\n",
    "        \n",
    "        if j == 'X':\n",
    "            x_user_choices.append(i)\n",
    "            \n",
    "        elif j == 'O':\n",
    "            o_user_choices.append(i)\n",
    "\n",
    "    for setting in settings_for_winning:\n",
    "\n",
    "        if set(setting).issubset(set(x_user_choices)):\n",
    "            return (True, 'X')\n",
    "        \n",
    "        if set(setting).issubset(set(o_user_choices)):\n",
    "            return (True, 'O')\n",
    "\n",
    "    return (False, 'Nor X nor O ')"
   ]
  },
  {
   "cell_type": "code",
   "execution_count": 9,
   "metadata": {},
   "outputs": [],
   "source": [
    "def check_is_game_over(board_status):\n",
    "    \n",
    "    # Check if someone won the mach\n",
    "    if check_if_someone_won(board_status)[0]:\n",
    "        print('The user with symbol ' + check_if_someone_won(board_status)[1] + ' has won.')\n",
    "        return True\n",
    "    \n",
    "    # Check if the mach result in a draw\n",
    "    elif not ' ' in board_status:\n",
    "        print('The result of a match is a draw.')\n",
    "        return True\n",
    "    \n",
    "    else:\n",
    "        return False\n",
    "    \n",
    "    return game_over"
   ]
  },
  {
   "cell_type": "code",
   "execution_count": 12,
   "metadata": {
    "scrolled": false
   },
   "outputs": [
    {
     "name": "stdout",
     "output_type": "stream",
     "text": [
      "Chose your move [0-8]:\n",
      "8\n",
      "The current state of the board is displayed below:\n",
      "    |   |   \n",
      " X  | O |   \n",
      " ___|___|___\n",
      "    |   |   \n",
      " O  | X |   \n",
      " ___|___|___\n",
      "    |   |   \n",
      "    |   | X \n",
      "    |   |   \n",
      "The user with symbol X has won.\n",
      "Do you want to continue the game ? Y or N:\n",
      "N\n"
     ]
    }
   ],
   "source": [
    "from IPython.display import clear_output\n",
    "import time\n",
    "\n",
    "while(True):\n",
    "    \n",
    "    selected_choices = set()\n",
    "    whose_move = {'X' : False, 'O' : False }\n",
    "    board_field_numbers = list(range(0,9))\n",
    "    board_status = board_field_numbers\n",
    "    is_game_over = False\n",
    "    \n",
    "    print(\"The board of Tic Tac Toe game is displayed below.\")\n",
    "    print(\"You can also see the field numbering that you will later refer to during the game.\")\n",
    "    \n",
    "    display_board(board_status)\n",
    "    \n",
    "    # Remove the numbering from the borad\n",
    "    board_status = [' ']*9\n",
    "    \n",
    "    current_player_symbol = chose_first_player_symbol()\n",
    "    whose_move[current_player_symbol] = True\n",
    "    \n",
    "    while(not is_game_over):\n",
    "        \n",
    "        player_having_moving = check_whose_move(whose_move)\n",
    "        print(f\"Now is a turn of the player witm a symbol: {player_having_moving}\")\n",
    "       \n",
    "        clear_output(wait=True)\n",
    "        \n",
    "        field = int(read_choice(selected_choices, board_status))\n",
    "        selected_choices.add(field)\n",
    "        set_board(field, player_having_moving) \n",
    "                \n",
    "        print(\"The current state of the board is displayed below:\")\n",
    "        display_board(board_status)\n",
    "        whose_move = switch_user(whose_move)\n",
    "        \n",
    "        is_game_over = check_is_game_over(board_status)\n",
    "\n",
    "    if (ask_continue_game()):\n",
    "        pass\n",
    "    \n",
    "    else:\n",
    "        break"
   ]
  },
  {
   "cell_type": "code",
   "execution_count": null,
   "metadata": {},
   "outputs": [],
   "source": []
  },
  {
   "cell_type": "code",
   "execution_count": null,
   "metadata": {},
   "outputs": [],
   "source": []
  }
 ],
 "metadata": {
  "kernelspec": {
   "display_name": "Python 3",
   "language": "python",
   "name": "python3"
  },
  "language_info": {
   "codemirror_mode": {
    "name": "ipython",
    "version": 3
   },
   "file_extension": ".py",
   "mimetype": "text/x-python",
   "name": "python",
   "nbconvert_exporter": "python",
   "pygments_lexer": "ipython3",
   "version": "3.6.3"
  }
 },
 "nbformat": 4,
 "nbformat_minor": 1
}
